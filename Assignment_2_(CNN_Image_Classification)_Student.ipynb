{
  "cells": [
    {
      "cell_type": "markdown",
      "metadata": {
        "id": "view-in-github",
        "colab_type": "text"
      },
      "source": [
        "<a href=\"https://colab.research.google.com/github/bagcakaya/Assignment-2-Seaborn./blob/main/Assignment_2_(CNN_Image_Classification)_Student.ipynb\" target=\"_parent\"><img src=\"https://colab.research.google.com/assets/colab-badge.svg\" alt=\"Open In Colab\"/></a>"
      ]
    },
    {
      "cell_type": "markdown",
      "metadata": {
        "id": "SAsF_QJs24Nu"
      },
      "source": [
        "\n",
        "# Image Classification with CNN\n",
        "\n",
        "\n",
        "Welcome to second assignment of Deep learning lesson. Follow the instructions and complete the assignment.\n",
        "\n",
        "------------\n",
        "\n",
        "## Task\n",
        "\n",
        "**Build an image classifier with Convolutional Neural Networks for the Fashion MNIST dataset. This data set includes 10 labels of different clothing types with 28 by 28 *grayscale* images. There is a training set of 60,000 images and 10,000 test images.**\n",
        "\n",
        "    Label\tDescription\n",
        "    0\t    T-shirt/top\n",
        "    1\t    Trouser\n",
        "    2\t    Pullover\n",
        "    3\t    Dress\n",
        "    4\t    Coat\n",
        "    5\t    Sandal\n",
        "    6\t    Shirt\n",
        "    7\t    Sneaker\n",
        "    8\t    Bag\n",
        "    9\t    Ankle boot\n",
        "    \n",
        " "
      ]
    },
    {
      "cell_type": "markdown",
      "metadata": {
        "id": "ENd-zl1b24Ny"
      },
      "source": [
        "## The Data\n",
        "\n",
        "**Download the fashion mnist dataset using Keras.**"
      ]
    },
    {
      "cell_type": "code",
      "execution_count": null,
      "metadata": {
        "id": "saRQEhni24Nz",
        "outputId": "2053bc26-dac7-4afb-e5f3-2e73195124b2",
        "colab": {
          "base_uri": "https://localhost:8080/"
        }
      },
      "outputs": [
        {
          "output_type": "stream",
          "name": "stdout",
          "text": [
            "Downloading data from https://storage.googleapis.com/tensorflow/tf-keras-datasets/train-labels-idx1-ubyte.gz\n",
            "32768/29515 [=================================] - 0s 0us/step\n",
            "40960/29515 [=========================================] - 0s 0us/step\n",
            "Downloading data from https://storage.googleapis.com/tensorflow/tf-keras-datasets/train-images-idx3-ubyte.gz\n",
            "26427392/26421880 [==============================] - 0s 0us/step\n",
            "26435584/26421880 [==============================] - 0s 0us/step\n",
            "Downloading data from https://storage.googleapis.com/tensorflow/tf-keras-datasets/t10k-labels-idx1-ubyte.gz\n",
            "16384/5148 [===============================================================================================] - 0s 0us/step\n",
            "Downloading data from https://storage.googleapis.com/tensorflow/tf-keras-datasets/t10k-images-idx3-ubyte.gz\n",
            "4423680/4422102 [==============================] - 0s 0us/step\n",
            "4431872/4422102 [==============================] - 0s 0us/step\n"
          ]
        }
      ],
      "source": [
        "from tensorflow.keras.datasets import fashion_mnist\n",
        "\n",
        "(x_train, y_train), (x_test, y_test) = fashion_mnist.load_data()"
      ]
    },
    {
      "cell_type": "markdown",
      "metadata": {
        "id": "nukECVgr24N1"
      },
      "source": [
        "## Visualizing the Data\n",
        "\n",
        "**Using matplotlib show an any image from the data set.**"
      ]
    },
    {
      "cell_type": "code",
      "execution_count": null,
      "metadata": {
        "id": "5uNYhSVH24N1"
      },
      "outputs": [],
      "source": [
        ""
      ]
    },
    {
      "cell_type": "code",
      "execution_count": null,
      "metadata": {
        "id": "XSisFQ8224N1"
      },
      "outputs": [],
      "source": [
        ""
      ]
    },
    {
      "cell_type": "code",
      "execution_count": null,
      "metadata": {
        "id": "1hPJmTTl24N2"
      },
      "outputs": [],
      "source": [
        ""
      ]
    },
    {
      "cell_type": "markdown",
      "metadata": {
        "id": "91lMEJ0024N2"
      },
      "source": [
        "## Preprocessing the Data\n",
        "\n",
        "**Normalize the X train and X test using max value of the image arrays.**"
      ]
    },
    {
      "cell_type": "code",
      "execution_count": null,
      "metadata": {
        "id": "-Y4XeG-324N2",
        "outputId": "2dacc8be-6e90-4da3-f2f9-3fc8807678c5"
      },
      "outputs": [
        {
          "data": {
            "text/plain": [
              "255"
            ]
          },
          "execution_count": 6,
          "metadata": {},
          "output_type": "execute_result"
        }
      ],
      "source": [
        ""
      ]
    },
    {
      "cell_type": "code",
      "execution_count": null,
      "metadata": {
        "id": "vY9Qk6_624N2"
      },
      "outputs": [],
      "source": [
        ""
      ]
    },
    {
      "cell_type": "code",
      "execution_count": null,
      "metadata": {
        "id": "gmj1tcgH24N3"
      },
      "outputs": [],
      "source": [
        ""
      ]
    },
    {
      "cell_type": "markdown",
      "metadata": {
        "id": "lIiSORFz24N3"
      },
      "source": [
        "**Reshape the X into 4 dimension**"
      ]
    },
    {
      "cell_type": "code",
      "execution_count": null,
      "metadata": {
        "id": "uEuEqK4824N3"
      },
      "outputs": [],
      "source": [
        ""
      ]
    },
    {
      "cell_type": "code",
      "execution_count": null,
      "metadata": {
        "id": "rPQMxqbP24N3"
      },
      "outputs": [],
      "source": [
        ""
      ]
    },
    {
      "cell_type": "code",
      "execution_count": null,
      "metadata": {
        "id": "g5mBPqTo24N3"
      },
      "outputs": [],
      "source": [
        ""
      ]
    },
    {
      "cell_type": "markdown",
      "metadata": {
        "id": "Qy0nn37N24N4"
      },
      "source": [
        "**Convert the y_train and y_test values to be one-hot encoded for categorical analysis.**"
      ]
    },
    {
      "cell_type": "code",
      "execution_count": null,
      "metadata": {
        "id": "5SOLiOWy24N4"
      },
      "outputs": [],
      "source": [
        ""
      ]
    },
    {
      "cell_type": "code",
      "execution_count": null,
      "metadata": {
        "id": "NjrmyW4k24N4"
      },
      "outputs": [],
      "source": [
        ""
      ]
    },
    {
      "cell_type": "code",
      "execution_count": null,
      "metadata": {
        "id": "_qEVup_-24N4"
      },
      "outputs": [],
      "source": [
        ""
      ]
    },
    {
      "cell_type": "code",
      "execution_count": null,
      "metadata": {
        "id": "kNaTsDaZ24N4"
      },
      "outputs": [],
      "source": [
        ""
      ]
    },
    {
      "cell_type": "markdown",
      "metadata": {
        "id": "AVdeFoqZ24N4"
      },
      "source": [
        "## Building the Model\n",
        "\n",
        "**Create the model**\n",
        "\n",
        "* 2D Convolutional Layer, filters=28 and kernel_size=(3,3)\n",
        "* Pooling Layer where pool_size = (2,2) strides=(1,1)\n",
        "\n",
        "* Flatten Layer\n",
        "* Dense Layer (128 Neurons, but feel free to play around with this value), RELU activation\n",
        "\n",
        "* Final Dense Layer of 10 Neurons with a softmax activation\n",
        "\n",
        "**Then compile the model with these parameters: loss='categorical_crossentropy', optimizer='rmsprop', metrics=['accuracy']**"
      ]
    },
    {
      "cell_type": "code",
      "execution_count": null,
      "metadata": {
        "id": "hPmDZn3K24N5"
      },
      "outputs": [],
      "source": [
        ""
      ]
    },
    {
      "cell_type": "code",
      "execution_count": null,
      "metadata": {
        "id": "l-RcdFi824N5"
      },
      "outputs": [],
      "source": [
        ""
      ]
    },
    {
      "cell_type": "markdown",
      "metadata": {
        "id": "AFvSWPjd24N5"
      },
      "source": [
        "###  Model Training \n",
        "\n",
        "**Train the model with arbitrary amount of epochs.**"
      ]
    },
    {
      "cell_type": "code",
      "execution_count": null,
      "metadata": {
        "id": "GThZozN824N5",
        "outputId": "50accf0e-aada-4e37-a724-d06423561d81"
      },
      "outputs": [
        {
          "name": "stdout",
          "output_type": "stream",
          "text": [
            "Epoch 1/10\n",
            "60000/60000 [==============================] - 5s 86us/step - loss: 0.1802 - acc: 0.9365\n",
            "Epoch 2/10\n",
            "60000/60000 [==============================] - 5s 87us/step - loss: 0.1679 - acc: 0.9395\n",
            "Epoch 3/10\n",
            "60000/60000 [==============================] - 5s 88us/step - loss: 0.1579 - acc: 0.9439\n",
            "Epoch 4/10\n",
            "60000/60000 [==============================] - 5s 87us/step - loss: 0.1502 - acc: 0.9469\n",
            "Epoch 5/10\n",
            "60000/60000 [==============================] - 5s 86us/step - loss: 0.1427 - acc: 0.9496\n",
            "Epoch 6/10\n",
            "60000/60000 [==============================] - 5s 87us/step - loss: 0.1397 - acc: 0.9523\n",
            "Epoch 7/10\n",
            "60000/60000 [==============================] - 5s 87us/step - loss: 0.1312 - acc: 0.9551\n",
            "Epoch 8/10\n",
            "60000/60000 [==============================] - 5s 86us/step - loss: 0.1274 - acc: 0.9559\n",
            "Epoch 9/10\n",
            "60000/60000 [==============================] - 5s 84us/step - loss: 0.1238 - acc: 0.9582\n",
            "Epoch 10/10\n",
            "60000/60000 [==============================] - 5s 84us/step - loss: 0.1201 - acc: 0.9588\n"
          ]
        },
        {
          "data": {
            "text/plain": [
              "<keras.callbacks.History at 0x2c18a60e400>"
            ]
          },
          "execution_count": 21,
          "metadata": {},
          "output_type": "execute_result"
        }
      ],
      "source": [
        ""
      ]
    },
    {
      "cell_type": "markdown",
      "metadata": {
        "id": "QTBidfi_24N5"
      },
      "source": [
        "**Plot values of metrics you used in your model.**"
      ]
    },
    {
      "cell_type": "code",
      "execution_count": null,
      "metadata": {
        "id": "7xPjakjQ24N5"
      },
      "outputs": [],
      "source": [
        ""
      ]
    },
    {
      "cell_type": "code",
      "execution_count": null,
      "metadata": {
        "id": "cZdoquPN24N5"
      },
      "outputs": [],
      "source": [
        ""
      ]
    },
    {
      "cell_type": "markdown",
      "metadata": {
        "id": "INiCOPOS24N5"
      },
      "source": [
        "**Train the model using earlystop.**"
      ]
    },
    {
      "cell_type": "code",
      "execution_count": null,
      "metadata": {
        "id": "8asd4ONs24N6"
      },
      "outputs": [],
      "source": [
        ""
      ]
    },
    {
      "cell_type": "code",
      "execution_count": null,
      "metadata": {
        "id": "EmjQlWEj24N6"
      },
      "outputs": [],
      "source": [
        ""
      ]
    },
    {
      "cell_type": "markdown",
      "metadata": {
        "id": "kZDwx9_s24N6"
      },
      "source": [
        "**Plot values of metrics you used in your model.**"
      ]
    },
    {
      "cell_type": "code",
      "execution_count": null,
      "metadata": {
        "id": "Pw73J9aX24N6"
      },
      "outputs": [],
      "source": [
        ""
      ]
    },
    {
      "cell_type": "code",
      "execution_count": null,
      "metadata": {
        "id": "9ocw-D0a24N6"
      },
      "outputs": [],
      "source": [
        ""
      ]
    },
    {
      "cell_type": "markdown",
      "metadata": {
        "id": "DgBtwnpE24N6"
      },
      "source": [
        "### Model Evaluation\n",
        "\n",
        "**Show the accuracy,precision,recall,f1-score the model achieved on the x_test data set.**"
      ]
    },
    {
      "cell_type": "code",
      "execution_count": null,
      "metadata": {
        "id": "rsBawDPH24N6",
        "outputId": "69a4ca3c-0ecf-4174-bd76-f87a2ccf7bf9"
      },
      "outputs": [
        {
          "data": {
            "text/plain": [
              "['loss', 'acc']"
            ]
          },
          "execution_count": 22,
          "metadata": {},
          "output_type": "execute_result"
        }
      ],
      "source": [
        ""
      ]
    },
    {
      "cell_type": "code",
      "execution_count": null,
      "metadata": {
        "id": "I3DMpyUd24N6"
      },
      "outputs": [],
      "source": [
        ""
      ]
    },
    {
      "cell_type": "code",
      "execution_count": null,
      "metadata": {
        "id": "buWpIBGS24N7"
      },
      "outputs": [],
      "source": [
        ""
      ]
    },
    {
      "cell_type": "code",
      "execution_count": null,
      "metadata": {
        "id": "jGOG6lk324N7"
      },
      "outputs": [],
      "source": [
        ""
      ]
    },
    {
      "cell_type": "code",
      "execution_count": null,
      "metadata": {
        "id": "OUQVP4eJ24N7"
      },
      "outputs": [],
      "source": [
        ""
      ]
    },
    {
      "cell_type": "code",
      "execution_count": null,
      "metadata": {
        "id": "H1xhSJra24N7"
      },
      "outputs": [],
      "source": [
        ""
      ]
    },
    {
      "cell_type": "code",
      "execution_count": null,
      "metadata": {
        "id": "ivGD_htq24N7"
      },
      "outputs": [],
      "source": [
        ""
      ]
    },
    {
      "cell_type": "code",
      "execution_count": null,
      "metadata": {
        "id": "XTzWAOhr24N7"
      },
      "outputs": [],
      "source": [
        ""
      ]
    },
    {
      "cell_type": "code",
      "execution_count": null,
      "metadata": {
        "scrolled": false,
        "id": "clrFUv0i24N7",
        "outputId": "81d7108a-7989-4fec-95a2-d3008d4f5d75"
      },
      "outputs": [
        {
          "name": "stdout",
          "output_type": "stream",
          "text": [
            "             precision    recall  f1-score   support\n",
            "\n",
            "          0       0.86      0.85      0.85      1000\n",
            "          1       0.99      0.97      0.98      1000\n",
            "          2       0.88      0.83      0.85      1000\n",
            "          3       0.91      0.91      0.91      1000\n",
            "          4       0.83      0.88      0.85      1000\n",
            "          5       0.97      0.98      0.98      1000\n",
            "          6       0.73      0.76      0.74      1000\n",
            "          7       0.95      0.97      0.96      1000\n",
            "          8       0.99      0.97      0.98      1000\n",
            "          9       0.98      0.94      0.96      1000\n",
            "\n",
            "avg / total       0.91      0.91      0.91     10000\n",
            "\n"
          ]
        }
      ],
      "source": [
        ""
      ]
    },
    {
      "cell_type": "code",
      "execution_count": null,
      "metadata": {
        "id": "5wI80C4X24N7"
      },
      "outputs": [],
      "source": [
        ""
      ]
    },
    {
      "cell_type": "markdown",
      "metadata": {
        "id": "aiKH44cY24N7"
      },
      "source": [
        "# Prediction"
      ]
    },
    {
      "cell_type": "code",
      "execution_count": null,
      "metadata": {
        "id": "eqoiCPZJ24N8"
      },
      "outputs": [],
      "source": [
        ""
      ]
    },
    {
      "cell_type": "code",
      "execution_count": null,
      "metadata": {
        "id": "jVC_4trW24N8"
      },
      "outputs": [],
      "source": [
        ""
      ]
    },
    {
      "cell_type": "markdown",
      "metadata": {
        "id": "F3XUUNrQ24N8"
      },
      "source": [
        "# End of Assignment"
      ]
    },
    {
      "cell_type": "code",
      "execution_count": null,
      "metadata": {
        "id": "AjHmgEni24N8"
      },
      "outputs": [],
      "source": [
        ""
      ]
    }
  ],
  "metadata": {
    "kernelspec": {
      "display_name": "Python 3",
      "language": "python",
      "name": "python3"
    },
    "language_info": {
      "codemirror_mode": {
        "name": "ipython",
        "version": 3
      },
      "file_extension": ".py",
      "mimetype": "text/x-python",
      "name": "python",
      "nbconvert_exporter": "python",
      "pygments_lexer": "ipython3",
      "version": "3.8.5"
    },
    "colab": {
      "name": "Assignment-2 (CNN Image Classification)_Student.ipynb",
      "provenance": [],
      "include_colab_link": true
    }
  },
  "nbformat": 4,
  "nbformat_minor": 0
}